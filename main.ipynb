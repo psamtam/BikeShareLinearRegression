{
 "cells": [
  {
   "cell_type": "markdown",
   "metadata": {},
   "source": [
    "## This project uses Linear Regression to predict the number of bike share"
   ]
  },
  {
   "cell_type": "markdown",
   "metadata": {},
   "source": [
    "### Import libraries and set some secret variable"
   ]
  },
  {
   "cell_type": "code",
   "execution_count": 109,
   "metadata": {},
   "outputs": [],
   "source": [
    "from ucimlrepo import fetch_ucirepo \n",
    "\n",
    "import pandas as pd\n",
    "import numpy as np\n",
    "\n",
    "from matplotlib import pyplot as plt\n",
    "import seaborn as sns\n",
    "\n",
    "from sklearn.preprocessing import StandardScaler\n",
    "from sklearn.model_selection import train_test_split, cross_val_score, KFold, GridSearchCV\n",
    "from sklearn.feature_selection import SelectKBest, f_regression, mutual_info_regression, RFE\n",
    "from sklearn.linear_model import LinearRegression\n",
    "\n",
    "\n",
    "\n",
    "curious_me = False"
   ]
  },
  {
   "cell_type": "markdown",
   "metadata": {},
   "source": [
    "### Read the data"
   ]
  },
  {
   "cell_type": "code",
   "execution_count": 2,
   "metadata": {},
   "outputs": [],
   "source": [
    "# fetch dataset \n",
    "bike_sharing = fetch_ucirepo(id=275) "
   ]
  },
  {
   "cell_type": "code",
   "execution_count": 3,
   "metadata": {},
   "outputs": [
    {
     "name": "stdout",
     "output_type": "stream",
     "text": [
      "          name     role         type demographic  \\\n",
      "0      instant       ID      Integer        None   \n",
      "1       dteday  Feature         Date        None   \n",
      "2       season  Feature  Categorical        None   \n",
      "3           yr  Feature  Categorical        None   \n",
      "4         mnth  Feature  Categorical        None   \n",
      "5           hr  Feature  Categorical        None   \n",
      "6      holiday  Feature       Binary        None   \n",
      "7      weekday  Feature  Categorical        None   \n",
      "8   workingday  Feature       Binary        None   \n",
      "9   weathersit  Feature  Categorical        None   \n",
      "10        temp  Feature   Continuous        None   \n",
      "11       atemp  Feature   Continuous        None   \n",
      "12         hum  Feature   Continuous        None   \n",
      "13   windspeed  Feature   Continuous        None   \n",
      "14      casual    Other      Integer        None   \n",
      "15  registered    Other      Integer        None   \n",
      "16         cnt   Target      Integer        None   \n",
      "\n",
      "                                          description units missing_values  \n",
      "0                                        record index  None             no  \n",
      "1                                                date  None             no  \n",
      "2                1:winter, 2:spring, 3:summer, 4:fall  None             no  \n",
      "3                             year (0: 2011, 1: 2012)  None             no  \n",
      "4                                     month (1 to 12)  None             no  \n",
      "5                                      hour (0 to 23)  None             no  \n",
      "6   weather day is holiday or not (extracted from ...  None             no  \n",
      "7                                     day of the week  None             no  \n",
      "8   if day is neither weekend nor holiday is 1, ot...  None             no  \n",
      "9   - 1: Clear, Few clouds, Partly cloudy, Partly ...  None             no  \n",
      "10  Normalized temperature in Celsius. The values ...     C             no  \n",
      "11  Normalized feeling temperature in Celsius. The...     C             no  \n",
      "12  Normalized humidity. The values are divided to...  None             no  \n",
      "13  Normalized wind speed. The values are divided ...  None             no  \n",
      "14                              count of casual users  None             no  \n",
      "15                          count of registered users  None             no  \n",
      "16  count of total rental bikes including both cas...  None             no  \n"
     ]
    }
   ],
   "source": [
    "# data (as pandas dataframes) \n",
    "X = bike_sharing.data.features \n",
    "y = bike_sharing.data.targets \n",
    "\n",
    "# convert y to shape of (samples, )\n",
    "y = np.array(object=y)\n",
    "y = y.ravel()\n",
    "  \n",
    "# metadata \n",
    "# print(bike_sharing.metadata) \n",
    "  \n",
    "# variable information \n",
    "print(bike_sharing.variables) "
   ]
  },
  {
   "cell_type": "code",
   "execution_count": 4,
   "metadata": {},
   "outputs": [
    {
     "name": "stdout",
     "output_type": "stream",
     "text": [
      "       dteday  season  yr  mnth  hr  holiday  weekday  workingday  weathersit  \\\n",
      "0  2011-01-01       1   0     1   0        0        6           0           1   \n",
      "1  2011-01-01       1   0     1   1        0        6           0           1   \n",
      "2  2011-01-01       1   0     1   2        0        6           0           1   \n",
      "3  2011-01-01       1   0     1   3        0        6           0           1   \n",
      "4  2011-01-01       1   0     1   4        0        6           0           1   \n",
      "\n",
      "   temp   atemp   hum  windspeed  \n",
      "0  0.24  0.2879  0.81        0.0  \n",
      "1  0.22  0.2727  0.80        0.0  \n",
      "2  0.22  0.2727  0.80        0.0  \n",
      "3  0.24  0.2879  0.75        0.0  \n",
      "4  0.24  0.2879  0.75        0.0  \n",
      "(17379, 13) (17379,)\n"
     ]
    }
   ],
   "source": [
    "print(X.head())\n",
    "print(X.shape, y.shape)"
   ]
  },
  {
   "cell_type": "markdown",
   "metadata": {},
   "source": [
    "### Drop the dteday and the yr features\n",
    "We drop the `dteday` (the exact date) feature since it only gives the exact date. Also, the data type is not train-able.\n",
    "\n",
    "We drop the `yr` (year) feature since it is either 0 or 1 to indicate if it is the first or the second year of the data collection. If we want to further use the model to predict the count of total rental bikes, then the input year will be 2, 3, 4, etc, which are unseen. Also, two years (either 0 or 1) are not enough to predict the future. "
   ]
  },
  {
   "cell_type": "code",
   "execution_count": 5,
   "metadata": {},
   "outputs": [],
   "source": [
    "X = X.drop(axis=1, columns=['dteday', 'yr'])"
   ]
  },
  {
   "cell_type": "code",
   "execution_count": 6,
   "metadata": {},
   "outputs": [
    {
     "name": "stdout",
     "output_type": "stream",
     "text": [
      "   season  mnth  hr  holiday  weekday  workingday  weathersit  temp   atemp  \\\n",
      "0       1     1   0        0        6           0           1  0.24  0.2879   \n",
      "1       1     1   1        0        6           0           1  0.22  0.2727   \n",
      "2       1     1   2        0        6           0           1  0.22  0.2727   \n",
      "3       1     1   3        0        6           0           1  0.24  0.2879   \n",
      "4       1     1   4        0        6           0           1  0.24  0.2879   \n",
      "\n",
      "    hum  windspeed  \n",
      "0  0.81        0.0  \n",
      "1  0.80        0.0  \n",
      "2  0.80        0.0  \n",
      "3  0.75        0.0  \n",
      "4  0.75        0.0  \n"
     ]
    }
   ],
   "source": [
    "X = pd.DataFrame(X)\n",
    "\n",
    "print(X.head())"
   ]
  },
  {
   "cell_type": "markdown",
   "metadata": {},
   "source": [
    "### Data normalisation"
   ]
  },
  {
   "cell_type": "code",
   "execution_count": 23,
   "metadata": {},
   "outputs": [
    {
     "data": {
      "text/plain": [
       "Text(0.5, 1.0, 'After normalisation')"
      ]
     },
     "execution_count": 23,
     "metadata": {},
     "output_type": "execute_result"
    },
    {
     "data": {
      "image/png": "[encoded data removed]",
      "text/plain": [
       "<Figure size 2000x1200 with 2 Axes>"
      ]
     },
     "metadata": {},
     "output_type": "display_data"
    }
   ],
   "source": [
    "scaler = StandardScaler()\n",
    "Xs = scaler.fit_transform(X)\n",
    "\n",
    "fig,ax=plt.subplots(2, 1,figsize=(20,12))\n",
    "ax[0] = sns.boxplot(data=X, ax=ax[0])\n",
    "ax[1] = sns.boxplot(data=Xs, ax=ax[1])\n",
    "ax[0].set_title(\"Before normalisation\")\n",
    "ax[1].set_title(\"After normalisation\")"
   ]
  },
  {
   "cell_type": "markdown",
   "metadata": {},
   "source": [
    "### Split the data into training set and test set"
   ]
  },
  {
   "cell_type": "code",
   "execution_count": 24,
   "metadata": {},
   "outputs": [],
   "source": [
    "X_train, X_test, y_train, y_test = train_test_split(Xs, y, test_size=0.2)"
   ]
  },
  {
   "cell_type": "code",
   "execution_count": 25,
   "metadata": {},
   "outputs": [
    {
     "name": "stdout",
     "output_type": "stream",
     "text": [
      "(13903, 11)\n",
      "(3476, 11)\n",
      "(13903,)\n",
      "(3476,)\n"
     ]
    }
   ],
   "source": [
    "print(X_train.shape)\n",
    "print(X_test.shape)\n",
    "print(y_train.shape)\n",
    "print(y_test.shape)"
   ]
  },
  {
   "cell_type": "markdown",
   "metadata": {},
   "source": [
    "### Feature selection"
   ]
  },
  {
   "cell_type": "markdown",
   "metadata": {},
   "source": [
    "The cell below is just me being curious about which features the two `score_func`s consider to be the least important."
   ]
  },
  {
   "cell_type": "code",
   "execution_count": 26,
   "metadata": {},
   "outputs": [],
   "source": [
    "if curious_me:\n",
    "  print(f\"Upper: f_regression\\nLower: mutual_info_regression\")\n",
    "  for i in range(0, 3):\n",
    "    for k in range(10, 1, -1):\n",
    "      for func in [f_regression, mutual_info_regression]:\n",
    "        fs = SelectKBest(score_func=func, k=k)\n",
    "        fs = fs.fit(X_train, y_train)\n",
    "\n",
    "        X_train_new = fs.transform(X_train)\n",
    "        X_test_new = fs.transform(X_test)\n",
    "\n",
    "        features = X.columns.to_list()\n",
    "        dropped_features = [feature for feature, retain in zip(features, fs.get_support()) if not retain]\n",
    "\n",
    "        print(f\"{dropped_features}\")\n",
    "      print()\n"
   ]
  },
  {
   "cell_type": "markdown",
   "metadata": {},
   "source": [
    "Well... hmmmmm... I can't believe `holiday` is one of the least important features... And also, the least important features change every run."
   ]
  },
  {
   "cell_type": "markdown",
   "metadata": {},
   "source": [
    "### Create the model"
   ]
  },
  {
   "cell_type": "markdown",
   "metadata": {},
   "source": [
    "#### Linear Regression Model, with normalised input.\n",
    "\n",
    "This model is evaluated by K-fold cross validation. The score is the average of the k-fold. \n",
    "\n",
    "Also, a histogram shows the Negative-RMS error of the testing set."
   ]
  },
  {
   "cell_type": "code",
   "execution_count": 87,
   "metadata": {},
   "outputs": [
    {
     "name": "stdout",
     "output_type": "stream",
     "text": [
      "Average Negative RMSE of k-fold cross validation is -147.49799429343565\n"
     ]
    },
    {
     "data": {
      "image/png": "[encoded data removed]",
      "text/plain": [
       "<Figure size 640x480 with 1 Axes>"
      ]
     },
     "metadata": {},
     "output_type": "display_data"
    }
   ],
   "source": [
    "K = 7\n",
    "\n",
    "model = LinearRegression()\n",
    "model.fit(X_train, y_train)\n",
    "score = cross_val_score(estimator=model, X=X_test, y=y_test, cv=K, scoring=\"neg_root_mean_squared_error\")\n",
    "\n",
    "y_predict = model.predict(X_test)\n",
    "\n",
    "fig, ax = plt.subplots(1, 1)\n",
    "ax.hist(y_predict - y_test)\n",
    "ax.set_title(\"Histogram of error\")\n",
    "\n",
    "print(f\"Average Negative-RMSE of k-fold cross validation is {np.average(score)}\")"
   ]
  },
  {
   "cell_type": "markdown",
   "metadata": {},
   "source": [
    "#### Linear Regression Model, with RFE (Recursive Feature Elimination) and normalised input.\n",
    "\n",
    "Just due to curiosity, we want to know which features the RFE considers less important."
   ]
  },
  {
   "cell_type": "code",
   "execution_count": 99,
   "metadata": {},
   "outputs": [
    {
     "data": {
      "text/plain": [
       "[('season', True, 1),\n",
       " ('mnth', False, 6),\n",
       " ('hr', True, 1),\n",
       " ('holiday', False, 2),\n",
       " ('weekday', False, 3),\n",
       " ('workingday', False, 5),\n",
       " ('weathersit', False, 7),\n",
       " ('temp', True, 1),\n",
       " ('atemp', True, 1),\n",
       " ('hum', True, 1),\n",
       " ('windspeed', False, 4)]"
      ]
     },
     "execution_count": 99,
     "metadata": {},
     "output_type": "execute_result"
    }
   ],
   "source": [
    "model = LinearRegression()\n",
    "\n",
    "rfe = RFE(estimator=model, n_features_to_select=5)\n",
    "\n",
    "rfe = rfe.fit(X=X_train, y=y_train)\n",
    "\n",
    "list(zip(X.columns,rfe.support_,rfe.ranking_))\n"
   ]
  },
  {
   "cell_type": "markdown",
   "metadata": {},
   "source": [
    "We can see the RFE considers `weathersit` is the least important, followed by `mnth` and `workingday`."
   ]
  },
  {
   "cell_type": "markdown",
   "metadata": {},
   "source": [
    "Now, we use Grid Search Cross Validation to find the best number of features."
   ]
  },
  {
   "cell_type": "code",
   "execution_count": 124,
   "metadata": {},
   "outputs": [
    {
     "name": "stdout",
     "output_type": "stream",
     "text": [
      "Fitting 5 folds for each of 11 candidates, totalling 55 fits\n"
     ]
    }
   ],
   "source": [
    "# Create the models\n",
    "model = LinearRegression()\n",
    "model.fit(X=X_train, y=y_train)\n",
    "rfe = RFE(estimator=model)\n",
    "\n",
    "# setting the hyper-parameters we want to change in the k-fold thing\n",
    "hyper_params = [{'n_features_to_select': list(range(1, len(X.columns)+1) ) }]\n",
    "\n",
    "# create the cross validation thing\n",
    "model_cv = GridSearchCV(estimator = rfe, \n",
    "                        param_grid = hyper_params, \n",
    "                        scoring= 'neg_root_mean_squared_error', \n",
    "                        cv = 5, \n",
    "                        verbose = 1,\n",
    "                        return_train_score=True)\n",
    "\n",
    "model_cv = model_cv.fit(X_train, y_train)\n"
   ]
  },
  {
   "cell_type": "code",
   "execution_count": 136,
   "metadata": {},
   "outputs": [
    {
     "data": {
      "text/html": [
       "<div>\n",
       "<style scoped>\n",
       "    .dataframe tbody tr th:only-of-type {\n",
       "        vertical-align: middle;\n",
       "    }\n",
       "\n",
       "    .dataframe tbody tr th {\n",
       "        vertical-align: top;\n",
       "    }\n",
       "\n",
       "    .dataframe thead th {\n",
       "        text-align: right;\n",
       "    }\n",
       "</style>\n",
       "<table border=\"1\" class=\"dataframe\">\n",
       "  <thead>\n",
       "    <tr style=\"text-align: right;\">\n",
       "      <th></th>\n",
       "      <th>param_n_features_to_select</th>\n",
       "      <th>mean_test_score</th>\n",
       "      <th>rank_test_score</th>\n",
       "      <th>mean_train_score</th>\n",
       "    </tr>\n",
       "  </thead>\n",
       "  <tbody>\n",
       "    <tr>\n",
       "      <th>0</th>\n",
       "      <td>1</td>\n",
       "      <td>-166.772641</td>\n",
       "      <td>11</td>\n",
       "      <td>-166.271209</td>\n",
       "    </tr>\n",
       "    <tr>\n",
       "      <th>1</th>\n",
       "      <td>2</td>\n",
       "      <td>-154.210850</td>\n",
       "      <td>10</td>\n",
       "      <td>-154.089382</td>\n",
       "    </tr>\n",
       "    <tr>\n",
       "      <th>2</th>\n",
       "      <td>3</td>\n",
       "      <td>-148.960065</td>\n",
       "      <td>9</td>\n",
       "      <td>-148.822928</td>\n",
       "    </tr>\n",
       "    <tr>\n",
       "      <th>3</th>\n",
       "      <td>4</td>\n",
       "      <td>-148.315453</td>\n",
       "      <td>8</td>\n",
       "      <td>-148.026325</td>\n",
       "    </tr>\n",
       "    <tr>\n",
       "      <th>4</th>\n",
       "      <td>5</td>\n",
       "      <td>-147.602037</td>\n",
       "      <td>7</td>\n",
       "      <td>-147.547640</td>\n",
       "    </tr>\n",
       "    <tr>\n",
       "      <th>5</th>\n",
       "      <td>6</td>\n",
       "      <td>-147.595888</td>\n",
       "      <td>6</td>\n",
       "      <td>-147.487756</td>\n",
       "    </tr>\n",
       "    <tr>\n",
       "      <th>6</th>\n",
       "      <td>7</td>\n",
       "      <td>-147.579505</td>\n",
       "      <td>5</td>\n",
       "      <td>-147.451959</td>\n",
       "    </tr>\n",
       "    <tr>\n",
       "      <th>7</th>\n",
       "      <td>8</td>\n",
       "      <td>-147.524696</td>\n",
       "      <td>4</td>\n",
       "      <td>-147.425210</td>\n",
       "    </tr>\n",
       "    <tr>\n",
       "      <th>8</th>\n",
       "      <td>9</td>\n",
       "      <td>-147.491604</td>\n",
       "      <td>1</td>\n",
       "      <td>-147.409123</td>\n",
       "    </tr>\n",
       "    <tr>\n",
       "      <th>9</th>\n",
       "      <td>10</td>\n",
       "      <td>-147.506070</td>\n",
       "      <td>2</td>\n",
       "      <td>-147.407166</td>\n",
       "    </tr>\n",
       "    <tr>\n",
       "      <th>10</th>\n",
       "      <td>11</td>\n",
       "      <td>-147.510052</td>\n",
       "      <td>3</td>\n",
       "      <td>-147.406632</td>\n",
       "    </tr>\n",
       "  </tbody>\n",
       "</table>\n",
       "</div>"
      ],
      "text/plain": [
       "    param_n_features_to_select  mean_test_score  rank_test_score  \\\n",
       "0                            1      -166.772641               11   \n",
       "1                            2      -154.210850               10   \n",
       "2                            3      -148.960065                9   \n",
       "3                            4      -148.315453                8   \n",
       "4                            5      -147.602037                7   \n",
       "5                            6      -147.595888                6   \n",
       "6                            7      -147.579505                5   \n",
       "7                            8      -147.524696                4   \n",
       "8                            9      -147.491604                1   \n",
       "9                           10      -147.506070                2   \n",
       "10                          11      -147.510052                3   \n",
       "\n",
       "    mean_train_score  \n",
       "0        -166.271209  \n",
       "1        -154.089382  \n",
       "2        -148.822928  \n",
       "3        -148.026325  \n",
       "4        -147.547640  \n",
       "5        -147.487756  \n",
       "6        -147.451959  \n",
       "7        -147.425210  \n",
       "8        -147.409123  \n",
       "9        -147.407166  \n",
       "10       -147.406632  "
      ]
     },
     "execution_count": 136,
     "metadata": {},
     "output_type": "execute_result"
    }
   ],
   "source": [
    "cv_results = pd.DataFrame(model_cv.cv_results_)\n",
    "\n",
    "extracted_cv_results = cv_results[[\"param_n_features_to_select\", \"mean_test_score\", \"rank_test_score\", \"mean_train_score\"]]\n",
    "extracted_cv_results"
   ]
  }
 ],
 "metadata": {
  "kernelspec": {
   "display_name": "MLEAsm1",
   "language": "python",
   "name": "python3"
  },
  "language_info": {
   "codemirror_mode": {
    "name": "ipython",
    "version": 3
   },
   "file_extension": ".py",
   "mimetype": "text/x-python",
   "name": "python",
   "nbconvert_exporter": "python",
   "pygments_lexer": "ipython3",
   "version": "3.10.15"
  }
 },
 "nbformat": 4,
 "nbformat_minor": 2
}
