{
 "cells": [
  {
   "cell_type": "markdown",
   "metadata": {},
   "source": [
    "## This project uses Linear Regression to predict the number of bike share"
   ]
  },
  {
   "cell_type": "markdown",
   "metadata": {},
   "source": [
    "### Import libraries and set some secret variable"
   ]
  },
  {
   "cell_type": "code",
   "execution_count": 41,
   "metadata": {},
   "outputs": [],
   "source": [
    "from ucimlrepo import fetch_ucirepo \n",
    "\n",
    "import pandas as pd\n",
    "import numpy as np\n",
    "\n",
    "from matplotlib import pyplot as plt\n",
    "import seaborn as sns\n",
    "\n",
    "from sklearn.preprocessing import StandardScaler, PolynomialFeatures\n",
    "from sklearn.model_selection import train_test_split, cross_val_score, KFold, GridSearchCV\n",
    "from sklearn.feature_selection import SelectKBest, f_regression, mutual_info_regression, RFE\n",
    "from sklearn.linear_model import LinearRegression\n",
    "\n",
    "\n",
    "\n",
    "curious_me = False"
   ]
  },
  {
   "cell_type": "markdown",
   "metadata": {},
   "source": [
    "### Read the data"
   ]
  },
  {
   "cell_type": "code",
   "execution_count": 3,
   "metadata": {},
   "outputs": [],
   "source": [
    "# fetch dataset \n",
    "bike_sharing = fetch_ucirepo(id=275) "
   ]
  },
  {
   "cell_type": "code",
   "execution_count": 4,
   "metadata": {},
   "outputs": [
    {
     "name": "stdout",
     "output_type": "stream",
     "text": [
      "          name     role         type demographic  \\\n",
      "0      instant       ID      Integer        None   \n",
      "1       dteday  Feature         Date        None   \n",
      "2       season  Feature  Categorical        None   \n",
      "3           yr  Feature  Categorical        None   \n",
      "4         mnth  Feature  Categorical        None   \n",
      "5           hr  Feature  Categorical        None   \n",
      "6      holiday  Feature       Binary        None   \n",
      "7      weekday  Feature  Categorical        None   \n",
      "8   workingday  Feature       Binary        None   \n",
      "9   weathersit  Feature  Categorical        None   \n",
      "10        temp  Feature   Continuous        None   \n",
      "11       atemp  Feature   Continuous        None   \n",
      "12         hum  Feature   Continuous        None   \n",
      "13   windspeed  Feature   Continuous        None   \n",
      "14      casual    Other      Integer        None   \n",
      "15  registered    Other      Integer        None   \n",
      "16         cnt   Target      Integer        None   \n",
      "\n",
      "                                          description units missing_values  \n",
      "0                                        record index  None             no  \n",
      "1                                                date  None             no  \n",
      "2                1:winter, 2:spring, 3:summer, 4:fall  None             no  \n",
      "3                             year (0: 2011, 1: 2012)  None             no  \n",
      "4                                     month (1 to 12)  None             no  \n",
      "5                                      hour (0 to 23)  None             no  \n",
      "6   weather day is holiday or not (extracted from ...  None             no  \n",
      "7                                     day of the week  None             no  \n",
      "8   if day is neither weekend nor holiday is 1, ot...  None             no  \n",
      "9   - 1: Clear, Few clouds, Partly cloudy, Partly ...  None             no  \n",
      "10  Normalized temperature in Celsius. The values ...     C             no  \n",
      "11  Normalized feeling temperature in Celsius. The...     C             no  \n",
      "12  Normalized humidity. The values are divided to...  None             no  \n",
      "13  Normalized wind speed. The values are divided ...  None             no  \n",
      "14                              count of casual users  None             no  \n",
      "15                          count of registered users  None             no  \n",
      "16  count of total rental bikes including both cas...  None             no  \n"
     ]
    }
   ],
   "source": [
    "# data (as pandas dataframes) \n",
    "X = bike_sharing.data.features \n",
    "y = bike_sharing.data.targets \n",
    "\n",
    "# convert y to shape of (samples, )\n",
    "y = np.array(object=y)\n",
    "y = y.ravel()\n",
    "  \n",
    "# metadata \n",
    "# print(bike_sharing.metadata) \n",
    "  \n",
    "# variable information \n",
    "print(bike_sharing.variables) "
   ]
  },
  {
   "cell_type": "code",
   "execution_count": 5,
   "metadata": {},
   "outputs": [
    {
     "name": "stdout",
     "output_type": "stream",
     "text": [
      "       dteday  season  yr  mnth  hr  holiday  weekday  workingday  weathersit  \\\n",
      "0  2011-01-01       1   0     1   0        0        6           0           1   \n",
      "1  2011-01-01       1   0     1   1        0        6           0           1   \n",
      "2  2011-01-01       1   0     1   2        0        6           0           1   \n",
      "3  2011-01-01       1   0     1   3        0        6           0           1   \n",
      "4  2011-01-01       1   0     1   4        0        6           0           1   \n",
      "\n",
      "   temp   atemp   hum  windspeed  \n",
      "0  0.24  0.2879  0.81        0.0  \n",
      "1  0.22  0.2727  0.80        0.0  \n",
      "2  0.22  0.2727  0.80        0.0  \n",
      "3  0.24  0.2879  0.75        0.0  \n",
      "4  0.24  0.2879  0.75        0.0  \n",
      "(17379, 13) (17379,)\n"
     ]
    }
   ],
   "source": [
    "print(X.head())\n",
    "print(X.shape, y.shape)"
   ]
  },
  {
   "cell_type": "markdown",
   "metadata": {},
   "source": [
    "### Drop the dteday and the yr features\n",
    "We drop the `dteday` (the exact date) feature since it only gives the exact date. Also, the data type is not train-able.\n",
    "\n",
    "We drop the `yr` (year) feature since it is either 0 or 1 to indicate if it is the first or the second year of the data collection. If we want to further use the model to predict the count of total rental bikes, then the input year will be 2, 3, 4, etc, which are unseen. Also, two years (either 0 or 1) are not enough to predict the future. "
   ]
  },
  {
   "cell_type": "code",
   "execution_count": 6,
   "metadata": {},
   "outputs": [],
   "source": [
    "X = X.drop(axis=1, columns=['dteday', 'yr'])"
   ]
  },
  {
   "cell_type": "code",
   "execution_count": 7,
   "metadata": {},
   "outputs": [
    {
     "name": "stdout",
     "output_type": "stream",
     "text": [
      "   season  mnth  hr  holiday  weekday  workingday  weathersit  temp   atemp  \\\n",
      "0       1     1   0        0        6           0           1  0.24  0.2879   \n",
      "1       1     1   1        0        6           0           1  0.22  0.2727   \n",
      "2       1     1   2        0        6           0           1  0.22  0.2727   \n",
      "3       1     1   3        0        6           0           1  0.24  0.2879   \n",
      "4       1     1   4        0        6           0           1  0.24  0.2879   \n",
      "\n",
      "    hum  windspeed  \n",
      "0  0.81        0.0  \n",
      "1  0.80        0.0  \n",
      "2  0.80        0.0  \n",
      "3  0.75        0.0  \n",
      "4  0.75        0.0  \n"
     ]
    }
   ],
   "source": [
    "X = pd.DataFrame(X)\n",
    "\n",
    "print(X.head())"
   ]
  },
  {
   "cell_type": "markdown",
   "metadata": {},
   "source": [
    "### Data normalisation"
   ]
  },
  {
   "cell_type": "code",
   "execution_count": 33,
   "metadata": {},
   "outputs": [
    {
     "data": {
      "text/plain": [
       "Text(0.5, 1.0, 'After normalisation')"
      ]
     },
     "execution_count": 33,
     "metadata": {},
     "output_type": "execute_result"
    },
    {
     "data": {
      "image/png": "[encoded data removed]",
      "text/plain": [
       "<Figure size 2000x1200 with 2 Axes>"
      ]
     },
     "metadata": {},
     "output_type": "display_data"
    }
   ],
   "source": [
    "scaler = StandardScaler()\n",
    "Xs = scaler.fit_transform(X)\n",
    "\n",
    "Xs = pd.DataFrame(Xs, columns=list(X.columns))\n",
    "\n",
    "fig,ax=plt.subplots(2, 1,figsize=(20,12))\n",
    "ax[0] = sns.boxplot(data=X, ax=ax[0])\n",
    "ax[1] = sns.boxplot(data=Xs, ax=ax[1])\n",
    "ax[0].set_title(\"Before normalisation\")\n",
    "ax[1].set_title(\"After normalisation\")"
   ]
  },
  {
   "cell_type": "markdown",
   "metadata": {},
   "source": [
    "### Split the data into training set and test set"
   ]
  },
  {
   "cell_type": "code",
   "execution_count": 34,
   "metadata": {},
   "outputs": [],
   "source": [
    "X_train, X_test, y_train, y_test = train_test_split(Xs, y, test_size=0.2)"
   ]
  },
  {
   "cell_type": "code",
   "execution_count": 35,
   "metadata": {},
   "outputs": [
    {
     "name": "stdout",
     "output_type": "stream",
     "text": [
      "(13903, 11)\n",
      "(3476, 11)\n",
      "(13903,)\n",
      "(3476,)\n"
     ]
    }
   ],
   "source": [
    "print(X_train.shape)\n",
    "print(X_test.shape)\n",
    "print(y_train.shape)\n",
    "print(y_test.shape)"
   ]
  },
  {
   "cell_type": "markdown",
   "metadata": {},
   "source": [
    "### Feature selection"
   ]
  },
  {
   "cell_type": "markdown",
   "metadata": {},
   "source": [
    "The cell below is just me being curious about which features the two `score_func`s consider to be the least important."
   ]
  },
  {
   "cell_type": "code",
   "execution_count": 36,
   "metadata": {},
   "outputs": [],
   "source": [
    "if curious_me:\n",
    "  print(f\"Upper: f_regression\\nLower: mutual_info_regression\")\n",
    "  for i in range(0, 3):\n",
    "    for k in range(10, 1, -1):\n",
    "      for func in [f_regression, mutual_info_regression]:\n",
    "        fs = SelectKBest(score_func=func, k=k)\n",
    "        fs = fs.fit(X_train, y_train)\n",
    "\n",
    "        X_train_new = fs.transform(X_train)\n",
    "        X_test_new = fs.transform(X_test)\n",
    "\n",
    "        features = X.columns.to_list()\n",
    "        dropped_features = [feature for feature, retain in zip(features, fs.get_support()) if not retain]\n",
    "\n",
    "        print(f\"{dropped_features}\")\n",
    "      print()\n"
   ]
  },
  {
   "cell_type": "markdown",
   "metadata": {},
   "source": [
    "Well... hmmmmm... I can't believe `holiday` is one of the least important features... And also, the least important features change every run."
   ]
  },
  {
   "cell_type": "markdown",
   "metadata": {},
   "source": [
    "### Create the model"
   ]
  },
  {
   "cell_type": "markdown",
   "metadata": {},
   "source": [
    "#### Linear Regression Model, with normalised input.\n",
    "\n",
    "This model is evaluated by K-fold cross validation. The score is the average of the k-fold. \n",
    "\n",
    "Also, a histogram shows the RMS error of the testing set.\n",
    "\n",
    "*Note that the scoring is Neg-RMSE, so we multiply a negative to make it RMSE.*"
   ]
  },
  {
   "cell_type": "code",
   "execution_count": 37,
   "metadata": {},
   "outputs": [
    {
     "name": "stdout",
     "output_type": "stream",
     "text": [
      "Average RMSE of k-fold cross validation is 147.98078371000938\n"
     ]
    },
    {
     "data": {
      "image/png": "[encoded data removed]",
      "text/plain": [
       "<Figure size 640x480 with 1 Axes>"
      ]
     },
     "metadata": {},
     "output_type": "display_data"
    }
   ],
   "source": [
    "K = 7\n",
    "\n",
    "model = LinearRegression()\n",
    "model.fit(X_train, y_train)\n",
    "score = cross_val_score(estimator=model, X=X_test, y=y_test, cv=K, scoring=\"neg_root_mean_squared_error\")\n",
    "\n",
    "y_predict = model.predict(X_test)\n",
    "\n",
    "fig, ax = plt.subplots(1, 1)\n",
    "ax.hist(y_predict - y_test)\n",
    "ax.set_title(\"Histogram of error\")\n",
    "\n",
    "print(f\"Average RMSE of k-fold cross validation is {-np.average(score)}\")"
   ]
  },
  {
   "cell_type": "markdown",
   "metadata": {},
   "source": [
    "#### Linear Regression Model, with RFE (Recursive Feature Elimination) and normalised input.\n",
    "\n",
    "Just due to curiosity, we want to know which features the RFE considers less important."
   ]
  },
  {
   "cell_type": "code",
   "execution_count": 38,
   "metadata": {},
   "outputs": [
    {
     "data": {
      "text/plain": [
       "[('season', True, 1),\n",
       " ('mnth', False, 7),\n",
       " ('hr', True, 1),\n",
       " ('holiday', False, 3),\n",
       " ('weekday', False, 4),\n",
       " ('workingday', False, 5),\n",
       " ('weathersit', False, 6),\n",
       " ('temp', True, 1),\n",
       " ('atemp', True, 1),\n",
       " ('hum', True, 1),\n",
       " ('windspeed', False, 2)]"
      ]
     },
     "execution_count": 38,
     "metadata": {},
     "output_type": "execute_result"
    }
   ],
   "source": [
    "model = LinearRegression()\n",
    "\n",
    "rfe = RFE(estimator=model, n_features_to_select=5)\n",
    "\n",
    "rfe = rfe.fit(X=X_train, y=y_train)\n",
    "\n",
    "list(zip(X.columns,rfe.support_,rfe.ranking_))\n"
   ]
  },
  {
   "cell_type": "markdown",
   "metadata": {},
   "source": [
    "We can see the RFE considers `mnth`, `workingday` and `weathersit` are the least important features."
   ]
  },
  {
   "cell_type": "markdown",
   "metadata": {},
   "source": [
    "Now, we use Grid Search Cross Validation to find the best number of features."
   ]
  },
  {
   "cell_type": "code",
   "execution_count": 27,
   "metadata": {},
   "outputs": [],
   "source": [
    "# Create the models\n",
    "model = LinearRegression()\n",
    "model.fit(X=X_train, y=y_train)\n",
    "rfe = RFE(estimator=model)\n",
    "\n",
    "# setting the hyper-parameters we want to change in the k-fold thing\n",
    "hyper_params = [{'n_features_to_select': list(range(1, len(X.columns)+1) ) }]\n",
    "\n",
    "# create the cross validation thing\n",
    "model_cv = GridSearchCV(estimator = rfe, param_grid = hyper_params, \n",
    "                        scoring= 'neg_root_mean_squared_error', \n",
    "                        cv = 5, return_train_score=True)\n",
    "\n",
    "model_cv = model_cv.fit(X_train, y_train)\n"
   ]
  },
  {
   "cell_type": "code",
   "execution_count": 31,
   "metadata": {},
   "outputs": [
    {
     "data": {
      "text/html": [
       "<div>\n",
       "<style scoped>\n",
       "    .dataframe tbody tr th:only-of-type {\n",
       "        vertical-align: middle;\n",
       "    }\n",
       "\n",
       "    .dataframe tbody tr th {\n",
       "        vertical-align: top;\n",
       "    }\n",
       "\n",
       "    .dataframe thead th {\n",
       "        text-align: right;\n",
       "    }\n",
       "</style>\n",
       "<table border=\"1\" class=\"dataframe\">\n",
       "  <thead>\n",
       "    <tr style=\"text-align: right;\">\n",
       "      <th></th>\n",
       "      <th>param_n_features_to_select</th>\n",
       "      <th>mean_test_RMSE</th>\n",
       "      <th>rank_test_score</th>\n",
       "      <th>mean_train_RMSE</th>\n",
       "    </tr>\n",
       "  </thead>\n",
       "  <tbody>\n",
       "    <tr>\n",
       "      <th>0</th>\n",
       "      <td>1</td>\n",
       "      <td>166.572710</td>\n",
       "      <td>11</td>\n",
       "      <td>166.423005</td>\n",
       "    </tr>\n",
       "    <tr>\n",
       "      <th>1</th>\n",
       "      <td>2</td>\n",
       "      <td>154.652015</td>\n",
       "      <td>10</td>\n",
       "      <td>154.494157</td>\n",
       "    </tr>\n",
       "    <tr>\n",
       "      <th>2</th>\n",
       "      <td>3</td>\n",
       "      <td>149.378808</td>\n",
       "      <td>9</td>\n",
       "      <td>149.209857</td>\n",
       "    </tr>\n",
       "    <tr>\n",
       "      <th>3</th>\n",
       "      <td>4</td>\n",
       "      <td>148.384757</td>\n",
       "      <td>8</td>\n",
       "      <td>148.101353</td>\n",
       "    </tr>\n",
       "    <tr>\n",
       "      <th>4</th>\n",
       "      <td>5</td>\n",
       "      <td>147.915743</td>\n",
       "      <td>7</td>\n",
       "      <td>147.832298</td>\n",
       "    </tr>\n",
       "    <tr>\n",
       "      <th>5</th>\n",
       "      <td>6</td>\n",
       "      <td>147.863075</td>\n",
       "      <td>6</td>\n",
       "      <td>147.776021</td>\n",
       "    </tr>\n",
       "    <tr>\n",
       "      <th>6</th>\n",
       "      <td>7</td>\n",
       "      <td>147.853991</td>\n",
       "      <td>5</td>\n",
       "      <td>147.744878</td>\n",
       "    </tr>\n",
       "    <tr>\n",
       "      <th>7</th>\n",
       "      <td>8</td>\n",
       "      <td>147.848106</td>\n",
       "      <td>3</td>\n",
       "      <td>147.724546</td>\n",
       "    </tr>\n",
       "    <tr>\n",
       "      <th>8</th>\n",
       "      <td>9</td>\n",
       "      <td>147.839116</td>\n",
       "      <td>1</td>\n",
       "      <td>147.710844</td>\n",
       "    </tr>\n",
       "    <tr>\n",
       "      <th>9</th>\n",
       "      <td>10</td>\n",
       "      <td>147.849768</td>\n",
       "      <td>4</td>\n",
       "      <td>147.703120</td>\n",
       "    </tr>\n",
       "    <tr>\n",
       "      <th>10</th>\n",
       "      <td>11</td>\n",
       "      <td>147.845655</td>\n",
       "      <td>2</td>\n",
       "      <td>147.702448</td>\n",
       "    </tr>\n",
       "  </tbody>\n",
       "</table>\n",
       "</div>"
      ],
      "text/plain": [
       "    param_n_features_to_select  mean_test_RMSE  rank_test_score  \\\n",
       "0                            1      166.572710               11   \n",
       "1                            2      154.652015               10   \n",
       "2                            3      149.378808                9   \n",
       "3                            4      148.384757                8   \n",
       "4                            5      147.915743                7   \n",
       "5                            6      147.863075                6   \n",
       "6                            7      147.853991                5   \n",
       "7                            8      147.848106                3   \n",
       "8                            9      147.839116                1   \n",
       "9                           10      147.849768                4   \n",
       "10                          11      147.845655                2   \n",
       "\n",
       "    mean_train_RMSE  \n",
       "0        166.423005  \n",
       "1        154.494157  \n",
       "2        149.209857  \n",
       "3        148.101353  \n",
       "4        147.832298  \n",
       "5        147.776021  \n",
       "6        147.744878  \n",
       "7        147.724546  \n",
       "8        147.710844  \n",
       "9        147.703120  \n",
       "10       147.702448  "
      ]
     },
     "execution_count": 31,
     "metadata": {},
     "output_type": "execute_result"
    }
   ],
   "source": [
    "cv_results = pd.DataFrame(model_cv.cv_results_)\n",
    "\n",
    "extracted_cv_results = cv_results[[\"param_n_features_to_select\", \"mean_test_score\", \"rank_test_score\", \"mean_train_score\"]]\n",
    "extracted_cv_results.loc[:, \"mean_test_score\"] = -extracted_cv_results[\"mean_test_score\"]\n",
    "extracted_cv_results.loc[:, \"mean_train_score\"] = -extracted_cv_results[\"mean_train_score\"]\n",
    "extracted_cv_results = extracted_cv_results.rename(columns={\"mean_test_score\": \"mean_test_RMSE\", \"mean_train_score\": \"mean_train_RMSE\"}, copy=False)\n",
    "extracted_cv_results\n"
   ]
  },
  {
   "cell_type": "markdown",
   "metadata": {},
   "source": [
    "### Try with Polynomial Regression\n",
    "Hmmmm... Just a bit curious about how polynomial regression works."
   ]
  },
  {
   "cell_type": "code",
   "execution_count": 117,
   "metadata": {},
   "outputs": [
    {
     "name": "stdout",
     "output_type": "stream",
     "text": [
      "******************** Currently we are using degree of 1 ********************\n",
      "Number of features: 12\n",
      "RMSE of training data: 147.270442387005\n",
      "RMSE of testing data: 148.4677517345304\n",
      "\n",
      "Now, use Recurrent Feature Elimination to find the best number of features\n",
      "Best n: {'n_features_to_select': 8}. Best score: 147.2588192836595\n",
      "\n",
      "Let's see if the model overfits.\n",
      "RMSE of training data: 147.2588192836595\n",
      "RMSE of testing data: 148.47579241482407\n",
      "\n",
      "\n",
      "\n",
      "******************** Currently we are using degree of 2 ********************\n",
      "Number of features: 78\n",
      "RMSE of training data: 129.79371850460947\n",
      "RMSE of testing data: 138.36762655213994\n",
      "\n",
      "Now, use Recurrent Feature Elimination to find the best number of features\n",
      "Best n: {'n_features_to_select': 29}. Best score: 129.9846442667148\n",
      "\n",
      "Let's see if the model overfits.\n",
      "RMSE of training data: 129.9846442667148\n",
      "RMSE of testing data: 137.3861284632949\n",
      "\n",
      "\n",
      "\n",
      "******************** Currently we are using degree of 3 ********************\n",
      "Number of features: 364\n",
      "RMSE of training data: 120.70579800652665\n",
      "RMSE of testing data: 134.72643086964192\n",
      "\n",
      "Now, use Recurrent Feature Elimination to find the best number of features\n",
      "Best n: {'n_features_to_select': 29}. Best score: 127.4235463841272\n",
      "\n",
      "Let's see if the model overfits.\n",
      "RMSE of training data: 127.4235463841272\n",
      "RMSE of testing data: 130.88249614393175\n",
      "\n",
      "\n",
      "\n",
      "\n",
      "We can see, when the number of features increases, it overfits.\n"
     ]
    }
   ],
   "source": [
    "# X: features, y: target\n",
    "\n",
    "for degree in range(1, 4):\n",
    "  print(f\"{'*' * 20} Currently we are using degree of {degree} {'*' * 20}\")\n",
    "  poly = PolynomialFeatures(degree=degree)\n",
    "  X_poly = poly.fit_transform(X, y)\n",
    "  print(f\"Number of features: {X_poly.shape[1]}\")\n",
    "\n",
    "  scaler = StandardScaler()\n",
    "  X_poly_scaled = scaler.fit_transform(X_poly, y)\n",
    "  if curious_me: \n",
    "    fig, ax = plt.subplots(1, 1)\n",
    "    ax = sns.boxplot(X_poly_scaled)\n",
    "\n",
    "  X_train, X_test, y_train, y_test = train_test_split(X_poly_scaled, y, train_size=0.8)\n",
    "  # print(f\"Train: {X_train.shape} {y_train.shape}\")\n",
    "  # print(f\"Test: {X_test.shape} {y_test.shape}\")\n",
    "\n",
    "  K = 5\n",
    "\n",
    "  model = LinearRegression()\n",
    "  \n",
    "  score = cross_val_score(model, X_train, y_train, cv=K, scoring=\"neg_root_mean_squared_error\")\n",
    "  print(f\"RMSE of training data: {-np.average(score)}\")\n",
    "  score = cross_val_score(model, X_test, y_test, cv=K, scoring=\"neg_root_mean_squared_error\")\n",
    "  print(f\"RMSE of testing data: {-np.average(score)}\")\n",
    "\n",
    "  print(\"\\nNow, use Recurrent Feature Elimination to find the best number of features\")\n",
    "  rfe = RFE(model)\n",
    "  # setting the hyper-parameters we want to change in the k-fold thing\n",
    "  hyper_params = [{'n_features_to_select': list(range(1, min(X_train.shape[1], 30) ) ) }]\n",
    "\n",
    "  model_cv = GridSearchCV(estimator = rfe, param_grid = hyper_params, \n",
    "                          scoring= 'neg_root_mean_squared_error', \n",
    "                          cv = K, return_train_score=True)\n",
    "\n",
    "  model_cv = model_cv.fit(X_train, y_train)\n",
    "\n",
    "  print(f\"Best n: {model_cv.best_params_}. Best score: {-model_cv.best_score_}\")\n",
    "\n",
    "  print(\"\\nLet's see if the model overfits.\")\n",
    "  best_model = model_cv.best_estimator_\n",
    "  score = cross_val_score(best_model, X_train, y_train, cv=K, scoring=\"neg_root_mean_squared_error\")\n",
    "  print(f\"RMSE of training data: {-np.average(score)}\")\n",
    "  score = cross_val_score(best_model, X_test, y_test, cv=K, scoring=\"neg_root_mean_squared_error\")\n",
    "  print(f\"RMSE of testing data: {-np.average(score)}\")\n",
    "\n",
    "  print(\"\\n\\n\")"
   ]
  },
  {
   "cell_type": "markdown",
   "metadata": {},
   "source": [
    "The above code runs for 3x minutes and outputs the following:\n",
    "\n",
    "#### ******************** Currently we are using degree of 1 ********************\n",
    "\n",
    "Number of features: 12\n",
    "\n",
    "RMSE of training data: 147.270442387005\n",
    "\n",
    "RMSE of testing data: 148.4677517345304\n",
    "\n",
    "\n",
    "Now, use Recurrent Feature Elimination to find the best number of features\n",
    "\n",
    "Best n: {'n_features_to_select': 8}. Best score: 147.2588192836595\n",
    "\n",
    "\n",
    "Let's see if the model overfits.\n",
    "\n",
    "RMSE of training data: 147.2588192836595\n",
    "\n",
    "RMSE of testing data: 148.47579241482407\n",
    "\n",
    "\n",
    "\n",
    "\n",
    "\n",
    "#### ******************** Currently we are using degree of 2 ********************\n",
    "\n",
    "Number of features: 78\n",
    "\n",
    "RMSE of training data: 129.79371850460947\n",
    "\n",
    "RMSE of testing data: 138.36762655213994\n",
    "\n",
    "\n",
    "Now, use Recurrent Feature Elimination to find the best number of features\n",
    "\n",
    "Best n: {'n_features_to_select': 29}. Best score: 129.9846442667148\n",
    "\n",
    "\n",
    "Let's see if the model overfits.\n",
    "\n",
    "RMSE of training data: 129.9846442667148\n",
    "\n",
    "RMSE of testing data: 137.3861284632949\n",
    "\n",
    "\n",
    "\n",
    "\n",
    "#### ******************** Currently we are using degree of 3 ********************\n",
    "\n",
    "Number of features: 364\n",
    "\n",
    "RMSE of training data: 120.70579800652665\n",
    "\n",
    "RMSE of testing data: 134.72643086964192\n",
    "\n",
    "\n",
    "Now, use Recurrent Feature Elimination to find the best number of features\n",
    "\n",
    "Best n: {'n_features_to_select': 29}. Best score: 127.4235463841272\n",
    "\n",
    "\n",
    "Let's see if the model overfits.\n",
    "\n",
    "RMSE of training data: 127.4235463841272\n",
    "\n",
    "RMSE of testing data: 130.88249614393175\n"
   ]
  },
  {
   "cell_type": "code",
   "execution_count": 118,
   "metadata": {},
   "outputs": [
    {
     "name": "stdout",
     "output_type": "stream",
     "text": [
      "******************** Currently we are using degree of 1 ********************\n",
      "Number of features: 12\n",
      "RMSE of training data: 147.9899279784757\n",
      "RMSE of testing data: 145.28219344793996\n",
      "******************** Currently we are using degree of 2 ********************\n",
      "Number of features: 78\n",
      "RMSE of training data: 130.19835899862514\n",
      "RMSE of testing data: 130.6852721325186\n",
      "******************** Currently we are using degree of 3 ********************\n",
      "Number of features: 364\n",
      "RMSE of training data: 121.42994930629311\n",
      "RMSE of testing data: 183.6754767279462\n",
      "******************** Currently we are using degree of 4 ********************\n",
      "Number of features: 1365\n",
      "RMSE of training data: 11599625437.84904\n",
      "RMSE of testing data: 352188436127.8024\n",
      "******************** Currently we are using degree of 5 ********************\n",
      "Number of features: 4368\n",
      "RMSE of training data: 208004455612.15668\n",
      "RMSE of testing data: 745348601804.0426\n"
     ]
    }
   ],
   "source": [
    "for degree in range(1, 6):\n",
    "  print(f\"{'*' * 20} Currently we are using degree of {degree} {'*' * 20}\")\n",
    "  poly = PolynomialFeatures(degree=degree)\n",
    "  X_poly = poly.fit_transform(X, y)\n",
    "  print(f\"Number of features: {X_poly.shape[1]}\")\n",
    "\n",
    "  scaler = StandardScaler()\n",
    "  X_poly_scaled = scaler.fit_transform(X_poly, y)\n",
    "  if curious_me: \n",
    "    fig, ax = plt.subplots(1, 1)\n",
    "    ax = sns.boxplot(X_poly_scaled)\n",
    "\n",
    "  X_train, X_test, y_train, y_test = train_test_split(X_poly_scaled, y, train_size=0.8)\n",
    "  # print(f\"Train: {X_train.shape} {y_train.shape}\")\n",
    "  # print(f\"Test: {X_test.shape} {y_test.shape}\")\n",
    "\n",
    "  K = 5\n",
    "\n",
    "  model = LinearRegression()\n",
    "  \n",
    "  score = cross_val_score(model, X_train, y_train, cv=K, scoring=\"neg_root_mean_squared_error\")\n",
    "  print(f\"RMSE of training data: {-np.average(score)}\")\n",
    "  score = cross_val_score(model, X_test, y_test, cv=K, scoring=\"neg_root_mean_squared_error\")\n",
    "  print(f\"RMSE of testing data: {-np.average(score)}\")\n"
   ]
  },
  {
   "cell_type": "markdown",
   "metadata": {},
   "source": [
    "In the above cell, we can see that more features can cause overfitting and chaos."
   ]
  },
  {
   "cell_type": "markdown",
   "metadata": {},
   "source": [
    "## Assignment 1\n",
    "The cell below is the model for submitting Assignment 1"
   ]
  },
  {
   "cell_type": "code",
   "execution_count": 119,
   "metadata": {},
   "outputs": [
    {
     "name": "stdout",
     "output_type": "stream",
     "text": [
      "Calculating 7-fold Negative-RMSE...\n",
      "Negative RMSE: [-125.88678715 -127.45217759 -127.86294402 -124.76430563 -128.38410457\n",
      " -125.75152415 -127.23949513]\n",
      "\n",
      "Average RMSE: 126.76304831989577\n"
     ]
    }
   ],
   "source": [
    "from ucimlrepo import fetch_ucirepo \n",
    "\n",
    "import numpy as np\n",
    "\n",
    "from sklearn.preprocessing import StandardScaler, PolynomialFeatures\n",
    "from sklearn.model_selection import cross_val_score, train_test_split\n",
    "from sklearn.feature_selection import RFE\n",
    "from sklearn.linear_model import LinearRegression\n",
    "from sklearn.pipeline import Pipeline\n",
    "\n",
    "from data_preprocessing import DataPreprocessing\n",
    "\n",
    "# fetch dataset \n",
    "bike_sharing = fetch_ucirepo(id=275) \n",
    "\n",
    "# data (as pandas dataframes) \n",
    "X = bike_sharing.data.features \n",
    "y = bike_sharing.data.targets \n",
    "\n",
    "# convert y to shape of (samples, )\n",
    "y = np.array(object=y)\n",
    "y = y.ravel()\n",
    "\n",
    "# Step 1: Split data\n",
    "X_train, X_test, y_train, y_test = train_test_split(X, y, train_size=0.8)\n",
    "\n",
    "# Step 2: Define base_model\n",
    "# Step 3: Data preprocessing\n",
    "# Step 4: Create polynomial features\n",
    "# Step 5: Normalisation\n",
    "# Step 6: Use Recursive Feature Elimination + Linear Regression\n",
    "\n",
    "base_model = LinearRegression()\n",
    "\n",
    "pipe = Pipeline([('dropColumns', DataPreprocessing()),\n",
    "                ('poly', PolynomialFeatures(degree=3)), \n",
    "                ('normalisation', StandardScaler(), ),\n",
    "                ('rfe', RFE(estimator=base_model, n_features_to_select=30))])\n",
    "\n",
    "K = 7\n",
    "print(f\"Calculating {K}-fold Negative-RMSE...\")\n",
    "score = cross_val_score(pipe, X_train, y_train, scoring=\"neg_root_mean_squared_error\", cv=K)\n",
    "\n",
    "print(f\"Negative RMSE: {score}\\n\")\n",
    "print(f\"Average RMSE: {-np.average(score)}\")  "
   ]
  },
  {
   "cell_type": "markdown",
   "metadata": {},
   "source": [
    "### Description of method\n",
    "\n",
    "First, we load the bike sharing data using the `ucimlrepo` library. Then, we format the data into `features` and `target`, and split them into training and testing sets. After that, we drop features `dteday` and `yr`, which are irrelevent. Next, we apply `PolynomialFeatures` to the data, adding polynomial features up to a degree of 3. We normalise the data using `StandardScaler` to reduce the spread of the features and make them easier to use. Last, we use `LinearRegression` with `rfe` to perform linear regression and select important features with Recursive Feature Elimination. Finally, we implement 7-fold cross-validation to evaluate the root mean squared error (RMSE) of the model. "
   ]
  },
  {
   "cell_type": "markdown",
   "metadata": {},
   "source": [
    "### Parameter settings\n",
    "\n",
    "- Polynomial Features: Degree of 3\n",
    "- Recursive Feature Elimination (RFE): select 30 features\n",
    "- Cross-validation Score: Negative Root Mean Squared Error\n"
   ]
  }
 ],
 "metadata": {
  "kernelspec": {
   "display_name": "MLEAsm1",
   "language": "python",
   "name": "python3"
  },
  "language_info": {
   "codemirror_mode": {
    "name": "ipython",
    "version": 3
   },
   "file_extension": ".py",
   "mimetype": "text/x-python",
   "name": "python",
   "nbconvert_exporter": "python",
   "pygments_lexer": "ipython3",
   "version": "3.10.15"
  }
 },
 "nbformat": 4,
 "nbformat_minor": 2
}
